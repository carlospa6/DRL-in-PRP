{
  "cells": [
    {
      "cell_type": "markdown",
      "metadata": {
        "id": "YXVXJdegKbkp"
      },
      "source": [
        "## Preprocessing"
      ]
    },
    {
      "cell_type": "markdown",
      "metadata": {
        "id": "5HZG9Sf8-1A_"
      },
      "source": [
        "### Create data for training "
      ]
    },
    {
      "cell_type": "code",
      "execution_count": 6,
      "metadata": {
        "id": "qXW2carKOxnu"
      },
      "outputs": [],
      "source": [
        "from sklearn.datasets import make_blobs\n",
        "%matplotlib inline\n",
        "import matplotlib.pyplot as plt\n",
        "import pandas as pd\n",
        "import numpy as np"
      ]
    },
    {
      "cell_type": "code",
      "execution_count": 7,
      "metadata": {
        "id": "uQyFBo5nPSXD"
      },
      "outputs": [],
      "source": [
        "def create_instances(n_samples_,centers_):\n",
        "  features, clusters = make_blobs(n_samples=n_samples_,n_features=2,centers=centers_, cluster_std=2,shuffle=True,center_box=(0,100))\n",
        "  # features=np.insert(features,0,[np.random.randint(0,100),np.random.randint(0,100)],axis=0)\n",
        "  features=np.insert(features,0,(40,50),axis=0)\n",
        "  # print()\n",
        "  # print('Feature Matrix:');\n",
        "  # print(pd.DataFrame(features,columns=np.arange(1,3)).head())\n",
        "  return features"
      ]
    },
    {
      "cell_type": "code",
      "execution_count": 8,
      "metadata": {
        "id": "0HyuQ83og4WA"
      },
      "outputs": [],
      "source": [
        "features=create_instances(31,4)"
      ]
    },
    {
      "cell_type": "code",
      "execution_count": 9,
      "metadata": {
        "colab": {
          "base_uri": "https://localhost:8080/",
          "height": 282
        },
        "id": "68x_NdQfSXBi",
        "outputId": "4c863f85-5388-4c32-d809-cb4ffeb638f3"
      },
      "outputs": [
        {
          "data": {
            "text/plain": [
              "<matplotlib.collections.PathCollection at 0x2ad534c16a0>"
            ]
          },
          "execution_count": 9,
          "metadata": {},
          "output_type": "execute_result"
        },
        {
          "data": {
            "image/png": "[encoded data removed]",
            "text/plain": [
              "<Figure size 432x288 with 1 Axes>"
            ]
          },
          "metadata": {
            "needs_background": "light"
          },
          "output_type": "display_data"
        }
      ],
      "source": [
        "plt.scatter(features[:,0],features[:,1])\n",
        "plt.scatter(features[0,0],features[0,1],marker='P',color='red')"
      ]
    },
    {
      "cell_type": "code",
      "execution_count": 10,
      "metadata": {
        "colab": {
          "base_uri": "https://localhost:8080/"
        },
        "id": "SnAbw3fDejBP",
        "outputId": "f19f8433-19a0-4eaa-a289-b91c95beff2b"
      },
      "outputs": [
        {
          "data": {
            "text/plain": [
              "torch.Size([10000, 2, 31])"
            ]
          },
          "execution_count": 10,
          "metadata": {},
          "output_type": "execute_result"
        }
      ],
      "source": [
        "import torch\n",
        "num_instances_=10000\n",
        "n_samples_=30\n",
        "n_centers=4\n",
        "x=[]\n",
        "y=[]\n",
        "for i in range(num_instances_):\n",
        "  features=create_instances(n_samples_,n_centers)\n",
        "  x.append(features[:,0])\n",
        "  y.append(features[:,1])\n",
        "x=torch.tensor(x,dtype=torch.float32).view(num_instances_,1,-1)\n",
        "y=torch.tensor(y,dtype=torch.float32).view(num_instances_,1,-1)\n",
        "tuple=(x,y)\n",
        "xy=torch.torch.cat(tuple,dim=1)\n",
        "xy.size()\n"
      ]
    },
    {
      "cell_type": "markdown",
      "metadata": {
        "id": "Qu1rOe8h_C94"
      },
      "source": [
        "### Preprocess Benchmarck Datasets"
      ]
    },
    {
      "cell_type": "code",
      "execution_count": 11,
      "metadata": {
        "id": "fueDRKubKbku"
      },
      "outputs": [],
      "source": [
        "import numpy as np\n",
        "import pandas as pd\n",
        "# Import BeautifulSoup\n",
        "from bs4 import BeautifulSoup as bs\n",
        "from os import listdir\n",
        "import torch\n",
        "\n",
        "# Class that process all the datasets to coordinates and demand array (batch x 2 x nodes)\n",
        "class Preprocess:\n",
        "    def __init__(self,paths_:str):\n",
        "        self.paths_=paths_\n",
        "        self.Filenames=[]        \n",
        "        self.dataset={}\n",
        "        # xy={'cx':[],'cy':[]}\n",
        "        \n",
        "        # self.dem=[]\n",
        "   # Extract the files names   \n",
        "    def listFiles (self):\n",
        "        for file in listdir(self.paths_):\n",
        "            self.Filenames.append('./Datasets/data/'+file)\n",
        "        return self.Filenames\n",
        "    # Extract the Coordinates cx and cy and demand in arrays\n",
        "    def processFiles (name_path,criteria):\n",
        "        content = []\n",
        "        xy={'cx':[],'cy':[]}\n",
        "        dem=[]\n",
        "        if criteria in name_path:\n",
        "            with open (name_path,'r') as file:\n",
        "                content=file.readlines()\n",
        "                content=\"\".join(content)\n",
        "                bs_content=bs(content,'xml')\n",
        "            \n",
        "            for nodes in bs_content.find_all('nodes'):\n",
        "                for node_ in nodes.find_all('node'):\n",
        "\n",
        "                    for text in node_.find_all('cx'):\n",
        "                        xy['cx'].append(text.text)\n",
        "\n",
        "                    for text in node_.find_all('cy'):\n",
        "                        xy['cy'].append(text.text)\n",
        "          \n",
        "            dem.append(0.)  \n",
        "            for request in bs_content.find_all('quantity'):\n",
        "                dem.append(float(request.text))\n",
        "\n",
        "            return xy, dem   \n",
        "    # Process each file \n",
        "    def create(self,num_nodes_):\n",
        "        myListName=self.listFiles()\n",
        "       \n",
        "        for name in myListName:\n",
        "            _=self.processFiles(name_path=name,criteria=num_nodes_)\n",
        "            \n",
        "        return self.xy,self.dem\n",
        "        \n"
      ]
    },
    {
      "cell_type": "markdown",
      "metadata": {
        "id": "PcDp56mcKbkx"
      },
      "source": [
        "### Reshape data"
      ]
    },
    {
      "cell_type": "code",
      "execution_count": 12,
      "metadata": {
        "colab": {
          "base_uri": "https://localhost:8080/"
        },
        "id": "VIH39f2dKbkx",
        "outputId": "63576b52-8e7a-4f5b-ae91-fdf2153e1590"
      },
      "outputs": [
        {
          "name": "stdout",
          "output_type": "stream",
          "text": [
            "tensor([[[35., 41., 35., 55., 55., 15., 25., 20., 10., 55., 30., 20., 50., 30.,\n",
            "          15., 30., 10.,  5., 20., 15., 45., 45., 45., 55., 65., 65., 45., 35.,\n",
            "          41., 64., 40., 31., 35., 53., 65., 63.,  2., 20.,  5., 60., 40., 42.,\n",
            "          24., 23., 11.,  6.,  2.,  8., 13.,  6., 47., 49., 27., 37., 57., 63.,\n",
            "          53., 32., 36., 21., 17., 12., 24., 27., 15., 62., 49., 67., 56., 37.,\n",
            "          37., 57., 47., 44., 46., 49., 49., 53., 61., 57., 56., 55., 15., 14.,\n",
            "          11., 16.,  4., 28., 26., 26., 31., 15., 22., 18., 26., 25., 22., 25.,\n",
            "          19., 20., 18.],\n",
            "         [35., 49., 17., 45., 20., 30., 30., 50., 43., 60., 60., 65., 35., 25.,\n",
            "          10.,  5., 20., 30., 40., 60., 65., 20., 10.,  5., 35., 20., 30., 40.,\n",
            "          37., 42., 60., 52., 69., 52., 55., 65., 60., 20.,  5., 12., 25.,  7.,\n",
            "          12.,  3., 14., 38., 48., 56., 52., 68., 47., 58., 43., 31., 29., 23.,\n",
            "          12., 12., 26., 24., 34., 24., 58., 69., 77., 77., 73.,  5., 39., 47.,\n",
            "          56., 68., 16., 17., 13., 11., 42., 43., 52., 48., 37., 54., 47., 37.,\n",
            "          31., 22., 18., 18., 52., 35., 67., 19., 22., 24., 27., 24., 27., 21.,\n",
            "          21., 26., 18.]]])\n",
            "tensor([[[ 0, 10,  7, 13, 19, 26,  3,  5,  9, 16, 16, 12, 19, 23, 20,  8, 19,\n",
            "           2, 12, 17,  9, 11, 18, 29,  3,  6, 17, 16, 16,  9, 21, 27, 23, 11,\n",
            "          14,  8,  5,  8, 16, 31,  9,  5,  5,  7, 18, 16,  1, 27, 36, 30, 13,\n",
            "          10,  9, 14, 18,  2,  6,  7, 18, 28,  3, 13, 19, 10,  9, 20, 25, 25,\n",
            "          36,  6,  5, 15, 25,  9,  8, 18, 13, 14,  3, 23,  6, 26, 16, 11,  7,\n",
            "          41, 35, 26,  9, 15,  3,  1,  2, 22, 27, 20, 11, 12, 10,  9, 17]]])\n"
          ]
        }
      ],
      "source": [
        "from sklearn import preprocessing\n",
        "num_instances=1\n",
        "# dataset=Preprocess(paths_='./Datasets/data/')\n",
        "a,b=Preprocess.processFiles('./Datasets/data/E-n101-k08.xml','08')\n",
        "# a,b=Preprocess.processFiles('C1_02_01.xml','200')\n",
        "coor=pd.DataFrame.from_dict(a,dtype=float).values.T\n",
        "dem=np.array(b,dtype=float).reshape(num_instances,1,-1)\n",
        "coor1=coor.reshape(num_instances,2,-1)\n",
        "\n",
        "# Normalization\n",
        "# min_max_scaler = preprocessing.MinMaxScaler()\n",
        "# coor_normalize=min_max_scaler.fit_transform(coor).reshape(num_instances,2,-1)\n",
        "\n",
        "# Convert to tensor\n",
        "# coor_normalize=torch.tensor(coor_normalize,dtype=torch.float32)\n",
        "coor_normalize=np.hsplit(coor,num_instances)\n",
        "coor_normalize=torch.tensor(coor_normalize,dtype=torch.float32)\n",
        "dem=torch.tensor(dem,dtype=int)\n",
        "\n",
        "print(coor_normalize)\n",
        "print(dem)"
      ]
    },
    {
      "cell_type": "markdown",
      "metadata": {
        "id": "w4fcimY_Kbky"
      },
      "source": [
        "### Plot coordinates instance"
      ]
    },
    {
      "cell_type": "code",
      "execution_count": 13,
      "metadata": {
        "colab": {
          "base_uri": "https://localhost:8080/",
          "height": 282
        },
        "id": "HJlWCMgeKbky",
        "outputId": "dceb77a9-6011-4efb-d350-a27b6b2b849c"
      },
      "outputs": [
        {
          "data": {
            "text/plain": [
              "<matplotlib.collections.PathCollection at 0x2ad566159d0>"
            ]
          },
          "execution_count": 13,
          "metadata": {},
          "output_type": "execute_result"
        },
        {
          "data": {
            "image/png": "[encoded data removed]",
            "text/plain": [
              "<Figure size 432x288 with 1 Axes>"
            ]
          },
          "metadata": {
            "needs_background": "light"
          },
          "output_type": "display_data"
        }
      ],
      "source": [
        "import matplotlib.pyplot as plt\n",
        "\n",
        "x=coor_normalize[0,0]\n",
        "y=coor_normalize[0,1]\n",
        "plt.scatter(x,y)\n",
        "plt.scatter(x[0],y[0],marker='P',color='red')\n"
      ]
    },
    {
      "cell_type": "code",
      "execution_count": 14,
      "metadata": {
        "colab": {
          "base_uri": "https://localhost:8080/"
        },
        "id": "jpm8l62WKbky",
        "outputId": "e4013a23-288f-40cd-a378-71377072fc54"
      },
      "outputs": [
        {
          "name": "stdout",
          "output_type": "stream",
          "text": [
            "Depot coordinate tensor(35.) tensor(35.)\n"
          ]
        }
      ],
      "source": [
        "print('Depot coordinate',coor_normalize[0,0,0],coor_normalize[0,1,0])"
      ]
    },
    {
      "cell_type": "markdown",
      "metadata": {
        "id": "e_TkGDrAKbkz"
      },
      "source": [
        "### Create dataset "
      ]
    },
    {
      "cell_type": "code",
      "execution_count": 15,
      "metadata": {
        "id": "TRUw-eprKbkz"
      },
      "outputs": [],
      "source": [
        "\"\"\"Defines the main task for the PRP.\n",
        "\n",
        "The PRP is defined by the following traits:\n",
        "    1. Each city has a demand in [1, 40], which must be serviced by the vehicle\n",
        "    2. Each vehicle has a capacity (depends on problem), the must visit all cities\n",
        "    3. When the vehicle load is 0, it __must__ return to the depot to refill\n",
        "\"\"\"\n",
        "\n",
        "import os\n",
        "import numpy as np\n",
        "# import torch\n",
        "from torch.utils.data import Dataset\n",
        "from torch.autograd import Variable\n",
        "import matplotlib\n",
        "matplotlib.use('Agg')\n",
        "import matplotlib.pyplot as plt\n",
        "import warnings\n",
        "\n",
        "\n",
        "class VehicleRoutingDataset(Dataset):\n",
        "    def __init__(self, num_instances_, input_size, max_load=700, max_demand=50,\n",
        "                 seed=None):\n",
        "        super(VehicleRoutingDataset, self).__init__()\n",
        "\n",
        "        # if max_load < max_demand:\n",
        "        #     raise ValueError(':param max_load: must be > max_demand')\n",
        "\n",
        "        if seed is None:\n",
        "            seed = np.random.randint(1234567890)\n",
        "        np.random.seed(seed)\n",
        "        torch.manual_seed(seed)\n",
        "\n",
        "        self.num_instances=num_instances_\n",
        "        self.max_load = max_load\n",
        "        self.max_demand = max_demand\n",
        "\n",
        "        # Depot location will be the first node in each\n",
        "        locations = xy\n",
        "        self.static = locations\n",
        "\n",
        "        # All states will broadcast the drivers current load\n",
        "        # Note that we only use a load between [0, 1] to prevent large\n",
        "        # numbers entering the neural network\n",
        "        dynamic_shape = (num_instances, 1, input_size + 1)\n",
        "        loads = torch.full(dynamic_shape, 1.)\n",
        "\n",
        "        # All states will have their own intrinsic demand in [1, max_demand), \n",
        "        # then scaled by the maximum load. E.g. if load=10 and max_demand=30, \n",
        "        # demands will be scaled to the range (0, 3)\n",
        "        demands = torch.randint(1, max_demand + 1, dynamic_shape)\n",
        "        demands = demands / float(max_load)\n",
        "\n",
        "        demands[:, 0, 0] = 0  # depot starts with a demand of 0\n",
        "        self.dynamic = torch.tensor(np.concatenate((loads, demands), axis=1))\n",
        "        \n",
        "\n",
        "    def __len__(self):\n",
        "        return self.num_instances\n",
        "\n",
        "    def __getitem__(self, idx):\n",
        "        # (static, dynamic, start_loc)\n",
        "        return (self.static[idx], self.dynamic[idx], self.static[idx, :, 0:1])\n",
        "\n",
        "    def update_mask(self, mask, dynamic, chosen_idx=None):\n",
        "        \"\"\"Updates the mask used to hide non-valid states.\n",
        "\n",
        "        Parameters\n",
        "        ----------\n",
        "        dynamic: torch.autograd.Variable of size (1, num_feats, seq_len)\n",
        "        \"\"\"\n",
        "\n",
        "        # Convert floating point to integers for calculations\n",
        "        loads = dynamic.data[:, 0]  # (batch_size, seq_len)\n",
        "        demands = dynamic.data[:, 1]  # (batch_size, seq_len)\n",
        "\n",
        "        # If there is no positive demand left, we can end the tour.\n",
        "        # Note that the first node is the depot, which always has a negative demand\n",
        "        if demands.eq(0).all():\n",
        "            return demands * 0.\n",
        "\n",
        "        # Otherwise, we can choose to go anywhere where demand is > 0\n",
        "        new_mask = demands.ne(0) * demands.lt(loads)\n",
        "\n",
        "        # We should avoid traveling to the depot back-to-back\n",
        "        repeat_home = chosen_idx.ne(0)\n",
        "\n",
        "        if repeat_home.any():\n",
        "            new_mask[repeat_home.nonzero(), 0] = 1.\n",
        "        if ~repeat_home.any():\n",
        "            new_mask[~repeat_home.nonzero(), 0] = 0.\n",
        "\n",
        "        # ... unless we're waiting for all other samples in a minibatch to finish\n",
        "        has_no_load = loads[:, 0].eq(0).float()\n",
        "        has_no_demand = demands[:, 1:].sum(1).eq(0).float()\n",
        "\n",
        "        combined = (has_no_load + has_no_demand).gt(0)\n",
        "        if combined.any():\n",
        "            new_mask[combined.nonzero(), 0] = 1.\n",
        "            new_mask[combined.nonzero(), 1:] = 0.\n",
        "\n",
        "        return new_mask.float()\n",
        "\n",
        "    def update_dynamic(self, dynamic, chosen_idx):\n",
        "        \"\"\"Updates the (load, demand) dataset values.\"\"\"\n",
        "\n",
        "        # Update the dynamic elements differently for if we visit depot vs. a city\n",
        "        visit = chosen_idx.ne(0)\n",
        "        depot = chosen_idx.eq(0)\n",
        "\n",
        "        # Clone the dynamic variable so we don't mess up graph\n",
        "        all_loads = dynamic[:, 0].clone()\n",
        "        all_demands = dynamic[:, 1].clone()\n",
        "\n",
        "        load = torch.gather(all_loads, 1, chosen_idx.unsqueeze(1))\n",
        "        demand = torch.gather(all_demands, 1, chosen_idx.unsqueeze(1))\n",
        "\n",
        "        # Across the minibatch - if we've chosen to visit a city, try to satisfy\n",
        "        # as much demand as possible\n",
        "        if visit.any():\n",
        "\n",
        "            new_load = torch.clamp(load - demand, min=0)\n",
        "            new_demand = torch.clamp(demand - load, min=0)\n",
        "\n",
        "            # Broadcast the load to all nodes, but update demand seperately\n",
        "            visit_idx = visit.nonzero().squeeze()\n",
        "\n",
        "            all_loads[visit_idx] = new_load[visit_idx]\n",
        "            all_demands[visit_idx, chosen_idx[visit_idx]] = new_demand[visit_idx].view(-1)\n",
        "            all_demands[visit_idx, 0] = -1. + new_load[visit_idx].view(-1)\n",
        "\n",
        "        # Return to depot to fill vehicle load\n",
        "        if depot.any():\n",
        "            all_loads[depot.nonzero().squeeze()] = 1.\n",
        "            all_demands[depot.nonzero().squeeze(), 0] = 0.\n",
        "\n",
        "        tensor = torch.cat((all_loads.unsqueeze(1), all_demands.unsqueeze(1)), 1)\n",
        "        # return torch.tensor(tensor.data, device=dynamic.device)\n",
        "    \n",
        "        return tensor.clone().detach()\n",
        "        \n",
        "\n",
        "    \n",
        "\n",
        "        \n",
        "\n",
        "    \n"
      ]
    },
    {
      "cell_type": "code",
      "execution_count": 16,
      "metadata": {
        "id": "10M38aCzKbkz"
      },
      "outputs": [],
      "source": [
        "\"\"\"Defines the main task for the PRP.\n",
        "\n",
        "The PRP is defined by the following traits:\n",
        "    1. Each city has a demand in [1, 9], which must be serviced by the vehicle\n",
        "    2. Each vehicle has a capacity (depends on problem), the must visit all cities\n",
        "    3. When the vehicle load is 0, it __must__ return to the depot to refill\n",
        "\"\"\"\n",
        "\n",
        "import os\n",
        "import numpy as np\n",
        "import torch\n",
        "from torch.utils.data import Dataset\n",
        "from torch.autograd import Variable\n",
        "import matplotlib\n",
        "matplotlib.use('Agg')\n",
        "import matplotlib.pyplot as plt\n",
        "import warnings\n",
        "\n",
        "\n",
        "class VehicleRoutingDataset1(Dataset):\n",
        "    def __init__(self, num_instances, max_load=700,\n",
        "                 seed=None):\n",
        "        super(VehicleRoutingDataset1, self).__init__()\n",
        "\n",
        "\n",
        "        if seed is None:\n",
        "            seed = np.random.randint(1234567890)\n",
        "        np.random.seed(seed)\n",
        "        torch.manual_seed(seed)\n",
        "\n",
        "        self.num_instances = num_instances\n",
        "        self.max_load = max_load\n",
        "    \n",
        "\n",
        "\n",
        "        # Depot location will be the first node in each\n",
        "        locations = coor_normalize\n",
        "        self.static = locations\n",
        "\n",
        "        # All states will broadcast the drivers current load\n",
        "        # Note that we only use a load between [0, 1] to prevent large\n",
        "        # numbers entering the neural network\n",
        "        dynamic_shape = (num_instances, 1, args.num_nodes + 1)\n",
        "        loads = torch.full(dynamic_shape, 1.)\n",
        "\n",
        "        # All states will have their own intrinsic demand in [1, max_demand), \n",
        "        # then scaled by the maximum load. E.g. if load=10 and max_demand=30, \n",
        "        # demands will be scaled to the range (0, 3)\n",
        "        demands = dem\n",
        "        demands = demands / float(max_load)\n",
        "\n",
        "        demands[:, 0, 0] = 0  # depot starts with a demand of 0\n",
        "        self.dynamic = torch.tensor(np.concatenate((loads, demands), axis=1))\n",
        "\n",
        "        \n",
        "\n",
        "    def __len__(self):\n",
        "        return self.num_instances\n",
        "\n",
        "    def __getitem__(self, idx):\n",
        "        # (static, dynamic, start_loc)\n",
        "        return (self.static[idx], self.dynamic[idx], self.static[idx, :, 0:1])\n",
        "\n",
        "    def update_mask(self, mask, dynamic, chosen_idx=None):\n",
        "        \"\"\"Updates the mask used to hide non-valid states.\n",
        "\n",
        "        Parameters\n",
        "        ----------\n",
        "        dynamic: torch.autograd.Variable of size (1, num_feats, seq_len)\n",
        "        \"\"\"\n",
        "\n",
        "        # Convert floating point to integers for calculations\n",
        "        loads = dynamic.data[:, 0]  # (batch_size, seq_len)\n",
        "        demands = dynamic.data[:, 1]  # (batch_size, seq_len)\n",
        "\n",
        "        # If there is no positive demand left, we can end the tour.\n",
        "        # Note that the first node is the depot, which always has a negative demand\n",
        "        if demands.eq(0).all():\n",
        "            return demands * 0.\n",
        "\n",
        "        # Otherwise, we can choose to go anywhere where demand is > 0\n",
        "        new_mask = demands.ne(0) * demands.lt(loads)\n",
        "\n",
        "        # We should avoid traveling to the depot back-to-back\n",
        "        repeat_home = chosen_idx.ne(0)\n",
        "\n",
        "        if repeat_home.any():\n",
        "            new_mask[repeat_home.nonzero(), 0] = 1.\n",
        "        if ~repeat_home.any():\n",
        "            new_mask[~repeat_home.nonzero(), 0] = 0.\n",
        "\n",
        "        # ... unless we're waiting for all other samples in a minibatch to finish\n",
        "        has_no_load = loads[:, 0].eq(0).float()\n",
        "        has_no_demand = demands[:, 1:].sum(1).eq(0).float()\n",
        "\n",
        "        combined = (has_no_load + has_no_demand).gt(0)\n",
        "        if combined.any():\n",
        "            new_mask[combined.nonzero(), 0] = 1.\n",
        "            new_mask[combined.nonzero(), 1:] = 0.\n",
        "\n",
        "        return new_mask.float()\n",
        "\n",
        "    def update_dynamic(self, dynamic, chosen_idx):\n",
        "        \"\"\"Updates the (load, demand) dataset values.\"\"\"\n",
        "\n",
        "        # Update the dynamic elements differently for if we visit depot vs. a city\n",
        "        visit = chosen_idx.ne(0)\n",
        "        depot = chosen_idx.eq(0)\n",
        "\n",
        "        # Clone the dynamic variable so we don't mess up graph\n",
        "        all_loads = dynamic[:, 0].clone()\n",
        "        all_demands = dynamic[:, 1].clone()\n",
        "\n",
        "        load = torch.gather(all_loads, 1, chosen_idx.unsqueeze(1))\n",
        "        demand = torch.gather(all_demands, 1, chosen_idx.unsqueeze(1))\n",
        "\n",
        "        # Across the minibatch - if we've chosen to visit a city, try to satisfy\n",
        "        # as much demand as possible\n",
        "        if visit.any():\n",
        "\n",
        "            new_load = torch.clamp(load - demand, min=0)\n",
        "            new_demand = torch.clamp(demand - load, min=0)\n",
        "\n",
        "            # Broadcast the load to all nodes, but update demand seperately\n",
        "            visit_idx = visit.nonzero().squeeze()\n",
        "\n",
        "            all_loads[visit_idx] = new_load[visit_idx]\n",
        "            all_demands[visit_idx, chosen_idx[visit_idx]] = new_demand[visit_idx].view(-1)\n",
        "            all_demands[visit_idx, 0] = -1. + new_load[visit_idx].view(-1)\n",
        "\n",
        "        # Return to depot to fill vehicle load\n",
        "        if depot.any():\n",
        "            all_loads[depot.nonzero().squeeze()] = 1.\n",
        "            all_demands[depot.nonzero().squeeze(), 0] = 0.\n",
        "\n",
        "        tensor = torch.cat((all_loads.unsqueeze(1), all_demands.unsqueeze(1)), 1)\n",
        "        # return torch.tensor(tensor.data, device=dynamic.device)\n",
        "        \n",
        "        return tensor.clone().detach()\n",
        "\n",
        "    "
      ]
    },
    {
      "cell_type": "markdown",
      "metadata": {
        "id": "cxZ0V4mlKbk0"
      },
      "source": [
        "### Reward Function"
      ]
    },
    {
      "cell_type": "code",
      "execution_count": 17,
      "metadata": {
        "id": "dKUXzV6lKbk0"
      },
      "outputs": [],
      "source": [
        "\n",
        "def reward(static,dynamic, tour_indices):\n",
        "    \"\"\"\n",
        "    Euclidean distance between all cities / nodes given by tour_indices\n",
        "    \"\"\"\n",
        "\n",
        "    # Convert the indices back into a tour\n",
        "    idx = tour_indices.unsqueeze(1).expand(-1, static.size(1), -1)\n",
        "    tour = torch.gather(static.data, 2, idx).permute(0, 2, 1)\n",
        "    tour_weight=torch.gather(dynamic.data,2,idx).permute(0,2,1)\n",
        "\n",
        "\n",
        "    # Ensure we're always returning to the depot - note the extra concat\n",
        "    # won't add any extra loss, as the euclidean distance between consecutive\n",
        "    # points is 0\n",
        "    start = static.data[:, :, 0].unsqueeze(1)\n",
        "    y = torch.cat((start, tour, start), dim=1)\n",
        "    \n",
        "    \n",
        "    weight=torch.sum(tour_weight[:,0].unsqueeze(1))/args.num_nodes\n",
        "   \n",
        "\n",
        "    \n",
        "\n",
        "    # Euclidean distance between each consecutive point\n",
        "    tour_len = 2.664*((torch.sqrt(torch.sum(torch.pow(y[:, :-1] - y[:, 1:], 2), dim=2))*(0.0635+0.005*weight)))\n",
        "    # tour_len = torch.sqrt(torch.sum(torch.pow(y[:, :-1] - y[:, 1:], 2), dim=2))\n",
        "\n",
        "\n",
        "    return tour_len.sum(1)"
      ]
    },
    {
      "cell_type": "markdown",
      "metadata": {
        "id": "uqn7yAYrKbk1"
      },
      "source": [
        "### Render function"
      ]
    },
    {
      "cell_type": "code",
      "execution_count": 18,
      "metadata": {
        "id": "w3LF4uXYKbk1"
      },
      "outputs": [],
      "source": [
        "\n",
        "def render(static, tour_indices, save_path):\n",
        "    \"\"\"Plots the found solution.\"\"\"\n",
        "\n",
        "    plt.close('all')\n",
        "\n",
        "    num_plots = 1 if int(np.sqrt(len(tour_indices))) >= 3 else 1\n",
        "\n",
        "    _, axes = plt.subplots(nrows=num_plots, ncols=num_plots,\n",
        "                           sharex='col', sharey='row')\n",
        "\n",
        "    if num_plots == 1:\n",
        "        axes = [[axes]]\n",
        "    axes = [a for ax in axes for a in ax]\n",
        "\n",
        "    for i, ax in enumerate(axes):\n",
        "\n",
        "        # Convert the indices back into a tour\n",
        "        idx = tour_indices[i]\n",
        "        if len(idx.size()) == 1:\n",
        "            idx = idx.unsqueeze(0)\n",
        "\n",
        "        idx = idx.expand(static.size(1), -1)\n",
        "        data = torch.gather(static[i].data, 1, idx).cpu().numpy()\n",
        "\n",
        "        start = static[i, :, 0].cpu().data.numpy()\n",
        "        x = np.hstack((start[0], data[0], start[0]))\n",
        "        y = np.hstack((start[1], data[1], start[1]))\n",
        "\n",
        "        # Assign each subtour a different colour & label in order traveled\n",
        "        idx = np.hstack((0, tour_indices[i].cpu().numpy().flatten(), 0))\n",
        "        where = np.where(idx == 0)[0]\n",
        "\n",
        "        for j in range(len(where) - 1):\n",
        "\n",
        "            low = where[j]\n",
        "            high = where[j + 1]\n",
        "\n",
        "            if low + 1 == high:\n",
        "                continue\n",
        "\n",
        "            ax.plot(x[low: high + 1], y[low: high + 1], zorder=1, label=j)\n",
        "\n",
        "        ax.legend(loc=\"upper right\", fontsize=3, framealpha=0.5)\n",
        "        ax.scatter(x, y, s=4, c='b', zorder=2)\n",
        "        ax.scatter(x[0], y[0], s=20, c='k', marker='P', zorder=3)\n",
        "\n",
        "        ax.set_xlim(0, 100)\n",
        "        ax.set_ylim(0, 100)\n",
        "\n",
        "    plt.tight_layout()\n",
        "    plt.savefig(save_path, bbox_inches='tight', dpi=300)\n",
        "\n",
        "\n",
        "\n",
        "# def render(static, tour_indices, save_path):\n",
        "#     \"\"\"Plots the found solution.\"\"\"\n",
        "\n",
        "#     path = './data/'\n",
        "#     plt.rcParams['animation.ffmpeg_path'] = path\n",
        "\n",
        "#     plt.close('all')\n",
        "\n",
        "#     num_plots = min(int(np.sqrt(len(tour_indices))), 3)\n",
        "#     fig, axes = plt.subplots(nrows=num_plots, ncols=num_plots,\n",
        "#                              sharex='col', sharey='row')\n",
        "#     axes = [a for ax in axes for a in ax]\n",
        "\n",
        "#     all_lines = []\n",
        "#     all_tours = []\n",
        "#     for i, ax in enumerate(axes):\n",
        "\n",
        "#         # Convert the indices back into a tour\n",
        "#         idx = tour_indices[i]\n",
        "#         if len(idx.size()) == 1:\n",
        "#             idx = idx.unsqueeze(0)\n",
        "\n",
        "#         idx = idx.expand(static.size(1), -1)\n",
        "#         data = torch.gather(static[i].data, 1, idx).cpu().numpy()\n",
        "\n",
        "#         start = static[i, :, 0].cpu().data.numpy()\n",
        "#         x = np.hstack((start[0], data[0], start[0]))\n",
        "#         y = np.hstack((start[1], data[1], start[1]))\n",
        "\n",
        "#         cur_tour = np.vstack((x, y))\n",
        "\n",
        "#         all_tours.append(cur_tour)\n",
        "#         all_lines.append(ax.plot([], [])[0])\n",
        "\n",
        "#         ax.scatter(x, y, s=4, c='r', zorder=2)\n",
        "#         ax.scatter(x[0], y[0], s=20, c='k', marker='*', zorder=3)\n",
        "\n",
        "#     from matplotlib.animation import FuncAnimation\n",
        "\n",
        "#     tours = all_tours\n",
        "\n",
        "#     def update(idx):\n",
        "\n",
        "#         for i, line in enumerate(all_lines):\n",
        "\n",
        "#             if idx >= tours[i].shape[1]:\n",
        "#                 continue\n",
        "\n",
        "#             data = tours[i][:, idx]\n",
        "\n",
        "#             xy_data = line.get_xydata()\n",
        "#             xy_data = np.vstack((xy_data, np.atleast_2d(data)))\n",
        "\n",
        "#             line.set_data(xy_data[:, 0], xy_data[:, 1])\n",
        "#             line.set_linewidth(0.75)\n",
        "\n",
        "#         return all_lines\n",
        "\n",
        "#     anim = FuncAnimation(fig, update, init_func=None,\n",
        "#                          frames=100, interval=200, blit=False,\n",
        "#                          repeat=False)\n",
        "\n",
        "#     anim.save('line.mp4', dpi=160)\n",
        "#     plt.show()\n",
        "\n",
        "#     import sys\n",
        "#     sys.exit(1)"
      ]
    },
    {
      "cell_type": "markdown",
      "metadata": {
        "id": "hPwqNdkUKbk1"
      },
      "source": [
        "### Encoder - Decoder - Attention"
      ]
    },
    {
      "cell_type": "code",
      "execution_count": 19,
      "metadata": {
        "id": "asqUgZbGKbk2"
      },
      "outputs": [],
      "source": [
        "# import torch\n",
        "import torch.nn as nn\n",
        "import torch.nn.functional as F\n",
        "\n",
        "# device = torch.device('cuda' if torch.cuda.is_available() else 'cpu')\n",
        "device = torch.device('cpu')\n",
        "\n",
        "\n",
        "class Encoder(nn.Module):\n",
        "    \"\"\"Encodes the static & dynamic states using 1d Convolution.\"\"\"\n",
        "\n",
        "    def __init__(self, input_size, hidden_size):\n",
        "        super(Encoder, self).__init__()\n",
        "        self.conv = nn.Conv1d(input_size, hidden_size, kernel_size=1)\n",
        "\n",
        "    def forward(self, input):\n",
        "        output = self.conv(input)\n",
        "        return output  # (batch, hidden_size, seq_len)\n",
        "\n",
        "\n",
        "class Attention(nn.Module):\n",
        "    \"\"\"Calculates attention over the input nodes given the current state.\"\"\"\n",
        "\n",
        "    def __init__(self, hidden_size):\n",
        "        super(Attention, self).__init__()\n",
        "\n",
        "        # W processes features from static decoder elements\n",
        "        self.v = nn.Parameter(torch.zeros((1, 1, hidden_size),\n",
        "                                          device=device, requires_grad=True))\n",
        "\n",
        "        self.W = nn.Parameter(torch.zeros((1, hidden_size, 3 * hidden_size),\n",
        "                                          device=device, requires_grad=True))\n",
        "\n",
        "    def forward(self, static_hidden, dynamic_hidden, decoder_hidden):\n",
        "\n",
        "        batch_size, hidden_size, _ = static_hidden.size()\n",
        "\n",
        "        hidden = decoder_hidden.unsqueeze(2).expand_as(static_hidden)\n",
        "        hidden = torch.cat((static_hidden, dynamic_hidden, hidden), 1)\n",
        "\n",
        "        # Broadcast some dimensions so we can do batch-matrix-multiply\n",
        "        v = self.v.expand(batch_size, 1, hidden_size)\n",
        "        W = self.W.expand(batch_size, hidden_size, -1)\n",
        "\n",
        "        attns = torch.bmm(v, torch.tanh(torch.bmm(W, hidden)))\n",
        "        attns = F.softmax(attns, dim=2)  # (batch, seq_len)\n",
        "        return attns\n",
        "\n",
        "\n",
        "class Pointer(nn.Module):\n",
        "    \"\"\"Calculates the next state given the previous state and input embeddings.\"\"\"\n",
        "\n",
        "    def __init__(self, hidden_size, num_layers=1, dropout=0.2):\n",
        "        super(Pointer, self).__init__()\n",
        "\n",
        "        self.hidden_size = hidden_size\n",
        "        self.num_layers = num_layers\n",
        "\n",
        "        # Used to calculate probability of selecting next state\n",
        "        self.v = nn.Parameter(torch.zeros((1, 1, hidden_size),\n",
        "                                          device=device, requires_grad=True))\n",
        "\n",
        "        self.W = nn.Parameter(torch.zeros((1, hidden_size, 2 * hidden_size),\n",
        "                                          device=device, requires_grad=True))\n",
        "\n",
        "        # Used to compute a representation of the current decoder output\n",
        "        self.gru = nn.GRU(hidden_size, hidden_size, num_layers,\n",
        "                          batch_first=True,\n",
        "                          dropout=dropout if num_layers > 1 else 0)\n",
        "        self.encoder_attn = Attention(hidden_size)\n",
        "\n",
        "        self.drop_rnn = nn.Dropout(p=dropout)\n",
        "        self.drop_hh = nn.Dropout(p=dropout)\n",
        "\n",
        "    def forward(self, static_hidden, dynamic_hidden, decoder_hidden, last_hh):\n",
        "\n",
        "        rnn_out, last_hh = self.gru(decoder_hidden.transpose(2, 1), last_hh)\n",
        "        rnn_out = rnn_out.squeeze(1)\n",
        "\n",
        "        # Always apply dropout on the RNN output\n",
        "        rnn_out = self.drop_rnn(rnn_out)\n",
        "        if self.num_layers == 1:\n",
        "            # If > 1 layer dropout is already applied\n",
        "            last_hh = self.drop_hh(last_hh) \n",
        "\n",
        "        # Given a summary of the output, find an  input context\n",
        "        enc_attn = self.encoder_attn(static_hidden, dynamic_hidden, rnn_out)\n",
        "        context = enc_attn.bmm(static_hidden.permute(0, 2, 1))  # (B, 1, num_feats)\n",
        "\n",
        "        # Calculate the next output using Batch-matrix-multiply ops\n",
        "        context = context.transpose(1, 2).expand_as(static_hidden)\n",
        "        energy = torch.cat((static_hidden, context), dim=1)  # (B, num_feats, seq_len)\n",
        "\n",
        "        v = self.v.expand(static_hidden.size(0), -1, -1)\n",
        "        W = self.W.expand(static_hidden.size(0), -1, -1)\n",
        "\n",
        "        probs = torch.bmm(v, torch.tanh(torch.bmm(W, energy))).squeeze(1)\n",
        "\n",
        "        return probs, last_hh\n"
      ]
    },
    {
      "cell_type": "markdown",
      "metadata": {
        "id": "zQrN2zTyKbk2"
      },
      "source": [
        "### Actor"
      ]
    },
    {
      "cell_type": "code",
      "execution_count": 20,
      "metadata": {
        "id": "m0SzYe3VKbk2"
      },
      "outputs": [],
      "source": [
        "class DRL4TSP(nn.Module):\n",
        "    \"\"\"Defines the main Encoder, Decoder, and Pointer combinatorial models.\n",
        "\n",
        "    Parameters\n",
        "    ----------\n",
        "    static_size: int\n",
        "        Defines how many features are in the static elements of the model\n",
        "        (e.g. 2 for (x, y) coordinates)\n",
        "    dynamic_size: int > 1\n",
        "        Defines how many features are in the dynamic elements of the model\n",
        "        (e.g. 2 for the PRP which has (load, demand) attributes. The TSP doesn't\n",
        "        have dynamic elements, but to ensure compatility with other optimization\n",
        "        problems, assume we just pass in a vector of zeros.\n",
        "    hidden_size: int\n",
        "        Defines the number of units in the hidden layer for all static, dynamic,\n",
        "        and decoder output units.\n",
        "    update_fn: function or None\n",
        "        If provided, this method is used to calculate how the input dynamic\n",
        "        elements are updated, and is called after each 'point' to the input element.\n",
        "    mask_fn: function or None\n",
        "        Allows us to specify which elements of the input sequence are allowed to\n",
        "        be selected. This is useful for speeding up training of the networks,\n",
        "        by providing a sort of 'rules' guidlines to the algorithm. If no mask\n",
        "        is provided, we terminate the search after a fixed number of iterations\n",
        "        to avoid tours that stretch forever\n",
        "    num_layers: int\n",
        "        Specifies the number of hidden layers to use in the decoder RNN\n",
        "    dropout: float\n",
        "        Defines the dropout rate for the decoder\n",
        "    \"\"\"\n",
        "\n",
        "    def __init__(self, static_size, dynamic_size, hidden_size,\n",
        "                 update_fn=None, mask_fn=None, num_layers=1, dropout=0.):\n",
        "        super(DRL4TSP, self).__init__()\n",
        "\n",
        "        if dynamic_size < 1:\n",
        "            raise ValueError(':param dynamic_size: must be > 0, even if the '\n",
        "                             'problem has no dynamic elements')\n",
        "\n",
        "        self.update_fn = update_fn\n",
        "        self.mask_fn = mask_fn\n",
        "\n",
        "        # Define the encoder & decoder models\n",
        "        self.static_encoder = Encoder(static_size, hidden_size)\n",
        "        self.dynamic_encoder = Encoder(dynamic_size, hidden_size)\n",
        "        self.decoder = Encoder(static_size, hidden_size)\n",
        "        self.pointer = Pointer(hidden_size, num_layers, dropout)\n",
        "\n",
        "        for p in self.parameters():\n",
        "            if len(p.shape) > 1:\n",
        "                nn.init.xavier_uniform_(p)\n",
        "\n",
        "        # Used as a proxy initial state in the decoder when not specified\n",
        "        self.x0 = torch.zeros((1, static_size, 1), requires_grad=True, device=device)\n",
        "\n",
        "    def forward(self, static, dynamic, decoder_input=None, last_hh=None):\n",
        "        \"\"\"\n",
        "        Parameters\n",
        "        ----------\n",
        "        static: Array of size (batch_size, feats, num_cities)\n",
        "            Defines the elements to consider as static. For the TSP, this could be\n",
        "            things like the (x, y) coordinates, which won't change\n",
        "        dynamic: Array of size (batch_size, feats, num_cities)\n",
        "            Defines the elements to consider as static. For the PRP, this can be\n",
        "            things like the (load, demand) of each city. If there are no dynamic\n",
        "            elements, this can be set to None\n",
        "        decoder_input: Array of size (batch_size, num_feats)\n",
        "            Defines the outputs for the decoder. Currently, we just use the\n",
        "            static elements (e.g. (x, y) coordinates), but this can technically\n",
        "            be other things as well\n",
        "        last_hh: Array of size (batch_size, num_hidden)\n",
        "            Defines the last hidden state for the RNN\n",
        "        \"\"\"\n",
        "\n",
        "        batch_size, input_size, sequence_size = static.size()\n",
        "\n",
        "        if decoder_input is None:\n",
        "            decoder_input = self.x0.expand(batch_size, -1, -1)\n",
        "\n",
        "        # Always use a mask - if no function is provided, we don't update it\n",
        "        mask = torch.ones(batch_size, sequence_size, device=device)\n",
        "\n",
        "        # Structures for holding the output sequences\n",
        "        tour_idx, tour_logp = [], []\n",
        "        max_steps = sequence_size if self.mask_fn is None else 1000\n",
        "\n",
        "        # Static elements only need to be processed once, and can be used across\n",
        "        # all 'pointing' iterations. When / if the dynamic elements change,\n",
        "        # their representations will need to get calculated again.\n",
        "        static_hidden = self.static_encoder(static)\n",
        "        dynamic_hidden = self.dynamic_encoder(dynamic)\n",
        "\n",
        "        for _ in range(max_steps):\n",
        "\n",
        "            if not mask.byte().any():\n",
        "                break\n",
        "\n",
        "            # ... but compute a hidden rep for each element added to sequence\n",
        "            decoder_hidden = self.decoder(decoder_input)\n",
        "\n",
        "            probs, last_hh = self.pointer(static_hidden,\n",
        "                                          dynamic_hidden,\n",
        "                                          decoder_hidden, last_hh)\n",
        "            probs = F.softmax(probs + mask.log(), dim=1)\n",
        "\n",
        "            # When training, sample the next step according to its probability.\n",
        "            # During testing, we can take the greedy approach and choose highest\n",
        "            if self.training:\n",
        "                m = torch.distributions.Categorical(probs)\n",
        "\n",
        "                # Sometimes an issue with Categorical & sampling on GPU; See:\n",
        "                # https://github.com/pemami4911/neural-combinatorial-rl-pytorch/issues/5\n",
        "                ptr = m.sample()\n",
        "                while not torch.gather(mask, 1, ptr.data.unsqueeze(1)).byte().all():\n",
        "                    ptr = m.sample()\n",
        "                logp = m.log_prob(ptr)\n",
        "            else:\n",
        "                prob, ptr = torch.max(probs, 1)  # Greedy\n",
        "                logp = prob.log()\n",
        "\n",
        "            # After visiting a node update the dynamic representation\n",
        "            if self.update_fn is not None:\n",
        "                dynamic = self.update_fn(dynamic, ptr.data)\n",
        "                dynamic_hidden = self.dynamic_encoder(dynamic)\n",
        "\n",
        "                # Since we compute the PRP in minibatches, some tours may have\n",
        "                # number of stops. We force the vehicles to remain at the depot \n",
        "                # in these cases, and logp := 0\n",
        "                is_done = dynamic[:, 1].sum(1).eq(0).float()\n",
        "                logp = logp * (1. - is_done)\n",
        "\n",
        "            # And update the mask so we don't re-visit if we don't need to\n",
        "            if self.mask_fn is not None:\n",
        "                mask = self.mask_fn(mask, dynamic, ptr.data).detach()\n",
        "\n",
        "            tour_logp.append(logp.unsqueeze(1))\n",
        "            tour_idx.append(ptr.data.unsqueeze(1))\n",
        "\n",
        "            decoder_input = torch.gather(static, 2,\n",
        "                                         ptr.view(-1, 1, 1)\n",
        "                                         .expand(-1, input_size, 1)).detach()\n",
        "\n",
        "        tour_idx = torch.cat(tour_idx, dim=1)  # (batch_size, seq_len)\n",
        "        tour_logp = torch.cat(tour_logp, dim=1)  # (batch_size, seq_len)\n",
        "\n",
        "        return tour_idx, tour_logp\n",
        "\n",
        "\n",
        "# if __name__ == '__main__':\n",
        "#     raise Exception('Cannot be called from main')\n",
        "with warnings.catch_warnings():\n",
        "    warnings.simplefilter(\"ignore\", category=RuntimeWarning)\n",
        "    "
      ]
    },
    {
      "cell_type": "markdown",
      "metadata": {
        "id": "5hooeX2uKbk2"
      },
      "source": [
        "### Critic"
      ]
    },
    {
      "cell_type": "code",
      "execution_count": 21,
      "metadata": {
        "id": "24O42ifiKbk3"
      },
      "outputs": [],
      "source": [
        "\"\"\"Defines the main trainer model for combinatorial problems\n",
        "\n",
        "Each task must define the following functions:\n",
        "* mask_fn: can be None\n",
        "* update_fn: can be None\n",
        "* reward_fn: specifies the quality of found solutions\n",
        "* render_fn: Specifies how to plot found solutions. Can be None\n",
        "\"\"\"\n",
        "\n",
        "import os\n",
        "import time\n",
        "import argparse\n",
        "import datetime\n",
        "import numpy as np\n",
        "# import torch\n",
        "# import torch.nn as nn\n",
        "# import torch.nn.functional as F\n",
        "import torch.optim as optim\n",
        "from torch.utils.data import DataLoader\n",
        "\n",
        "# from model import DRL4TSP, Encoder\n",
        "\n",
        "# device = torch.device('cuda' if torch.cuda.is_available() else 'cpu')\n",
        "device = torch.device('cpu')\n",
        "\n",
        "\n",
        "class StateCritic(nn.Module):\n",
        "    \"\"\"Estimates the problem complexity.\n",
        "\n",
        "    This is a basic module that just looks at the log-probabilities predicted by\n",
        "    the encoder + decoder, and returns an estimate of complexity\n",
        "    \"\"\"\n",
        "\n",
        "    def __init__(self, static_size, dynamic_size, hidden_size):\n",
        "        super(StateCritic, self).__init__()\n",
        "\n",
        "        self.static_encoder = Encoder(static_size, hidden_size)\n",
        "        self.dynamic_encoder = Encoder(dynamic_size, hidden_size)\n",
        "\n",
        "        # Define the encoder & decoder models\n",
        "        self.fc1 = nn.Conv1d(hidden_size * 2, 20, kernel_size=1)\n",
        "        self.fc2 = nn.Conv1d(20, 20, kernel_size=1)\n",
        "        self.fc3 = nn.Conv1d(20, 1, kernel_size=1)\n",
        "\n",
        "        for p in self.parameters():\n",
        "            if len(p.shape) > 1:\n",
        "                nn.init.xavier_uniform_(p)\n",
        "\n",
        "    def forward(self, static, dynamic):\n",
        "\n",
        "        # Use the probabilities of visiting each\n",
        "        static_hidden = self.static_encoder(static)\n",
        "        dynamic_hidden = self.dynamic_encoder(dynamic)\n",
        "\n",
        "        hidden = torch.cat((static_hidden, dynamic_hidden), 1)\n",
        "\n",
        "        output = F.relu(self.fc1(hidden))\n",
        "        output = F.relu(self.fc2(output))\n",
        "        output = self.fc3(output).sum(dim=2)\n",
        "        return output\n",
        "\n",
        "\n",
        "class Critic(nn.Module):\n",
        "    \"\"\"Estimates the problem complexity.\n",
        "\n",
        "    This is a basic module that just looks at the log-probabilities predicted by\n",
        "    the encoder + decoder, and returns an estimate of complexity\n",
        "    \"\"\"\n",
        "\n",
        "    def __init__(self, hidden_size):\n",
        "        super(Critic, self).__init__()\n",
        "\n",
        "        # Define the encoder & decoder models\n",
        "        self.fc1 = nn.Conv1d(1, hidden_size, kernel_size=1)\n",
        "        self.fc2 = nn.Conv1d(hidden_size, 20, kernel_size=1)\n",
        "        self.fc3 = nn.Conv1d(20, 1, kernel_size=1)\n",
        "\n",
        "        for p in self.parameters():\n",
        "            if len(p.shape) > 1:\n",
        "                nn.init.xavier_uniform_(p)\n",
        "\n",
        "    def forward(self, input):\n",
        "\n",
        "        output = F.relu(self.fc1(input.unsqueeze(1)))\n",
        "        output = F.relu(self.fc2(output)).squeeze(2)\n",
        "        output = self.fc3(output).sum(dim=2)\n",
        "        return output\n"
      ]
    },
    {
      "cell_type": "markdown",
      "metadata": {
        "id": "s-ln4Ih3Kbk3"
      },
      "source": [
        "### Validate Function"
      ]
    },
    {
      "cell_type": "code",
      "execution_count": 22,
      "metadata": {
        "id": "hRDLBq8gKbk3"
      },
      "outputs": [],
      "source": [
        "\n",
        "def validate(data_loader, actor, reward_fn, render_fn=None, save_dir='.',\n",
        "             num_plot=5):\n",
        "    \"\"\"Used to monitor progress on a validation set & optionally plot solution.\"\"\"\n",
        "\n",
        "    actor.eval()\n",
        "\n",
        "    if not os.path.exists(save_dir):\n",
        "        os.makedirs(save_dir)\n",
        "\n",
        "    rewards = []\n",
        "    for batch_idx, batch in enumerate(data_loader):\n",
        "\n",
        "        static, dynamic, x0 = batch\n",
        "\n",
        "        static = static.to(device)\n",
        "        dynamic = dynamic.to(device)\n",
        "        x0 = x0.to(device) if len(x0) > 0 else None\n",
        "\n",
        "        with torch.no_grad():\n",
        "            tour_indices, _ = actor.forward(static, dynamic, x0)\n",
        "\n",
        "        reward = reward_fn(static,dynamic, tour_indices).mean().item()\n",
        "        rewards.append(reward)\n",
        "\n",
        "        if render_fn is not None and batch_idx < num_plot:\n",
        "            name = 'batch%d_%2.4f.png'%(batch_idx, reward)\n",
        "            path = os.path.join(save_dir, name)\n",
        "            render_fn(static, tour_indices, path)\n",
        "        \n",
        "    \n",
        "\n",
        "    actor.train()\n",
        "    return np.mean(rewards)\n"
      ]
    },
    {
      "cell_type": "markdown",
      "metadata": {
        "id": "I6X6aykkKbk3"
      },
      "source": [
        "### Train Function"
      ]
    },
    {
      "cell_type": "code",
      "execution_count": 23,
      "metadata": {
        "id": "M7fsvFMVKbk3"
      },
      "outputs": [],
      "source": [
        "\n",
        "\n",
        "def train(actor, critic, task, num_nodes, train_data, valid_data, reward_fn,\n",
        "          render_fn, batch_size, actor_lr, critic_lr, max_grad_norm,\n",
        "          **kwargs):\n",
        "    \"\"\"Constructs the main actor & critic networks, and performs all training.\"\"\"\n",
        "\n",
        "    now = '%s' % datetime.datetime.now().time()\n",
        "    now = now.replace(':', '_')\n",
        "    save_dir = os.path.join(task, '%d' % num_nodes, now)\n",
        "\n",
        "    checkpoint_dir = os.path.join(save_dir, 'checkpoints')\n",
        "    if not os.path.exists(checkpoint_dir):\n",
        "        os.makedirs(checkpoint_dir)\n",
        "\n",
        "    actor_optim = optim.Adam(actor.parameters(), lr=actor_lr)\n",
        "    critic_optim = optim.Adam(critic.parameters(), lr=critic_lr)\n",
        "\n",
        "    train_loader = DataLoader(train_data, batch_size, True, num_workers=0)\n",
        "    valid_loader = DataLoader(valid_data, batch_size, False, num_workers=0)\n",
        "\n",
        "    best_params = None\n",
        "    best_reward = np.inf\n",
        "\n",
        "    for epoch in range(1000):\n",
        "\n",
        "        actor.train()\n",
        "        critic.train()\n",
        "\n",
        "        times, losses, rewards, critic_rewards = [], [], [], []\n",
        "\n",
        "        epoch_start = time.time()\n",
        "        start = epoch_start\n",
        "\n",
        "        for batch_idx, batch in enumerate(train_loader):\n",
        "\n",
        "            static, dynamic, x0 = batch\n",
        "\n",
        "            static = static.to(device)\n",
        "            dynamic = dynamic.to(device)\n",
        "            x0 = x0.to(device) if len(x0) > 0 else None\n",
        "\n",
        "            # Full forward pass through the dataset\n",
        "            tour_indices, tour_logp = actor(static, dynamic, x0)\n",
        "\n",
        "            # Sum the log probabilities for each city in the tour\n",
        "            reward = reward_fn(static,dynamic, tour_indices)\n",
        "\n",
        "            # Query the critic for an estimate of the reward\n",
        "            critic_est = critic(static, dynamic).view(-1)\n",
        "\n",
        "            advantage = (reward - critic_est)\n",
        "            actor_loss = torch.mean(advantage.detach() * tour_logp.sum(dim=1))\n",
        "            critic_loss = torch.mean(advantage ** 2)\n",
        "\n",
        "            actor_optim.zero_grad()\n",
        "            actor_loss.backward()\n",
        "            torch.nn.utils.clip_grad_norm_(actor.parameters(), max_grad_norm)\n",
        "            actor_optim.step()\n",
        "\n",
        "            critic_optim.zero_grad()\n",
        "            critic_loss.backward()\n",
        "            torch.nn.utils.clip_grad_norm_(critic.parameters(), max_grad_norm)\n",
        "            critic_optim.step()\n",
        "\n",
        "            critic_rewards.append(torch.mean(critic_est.detach()).item())\n",
        "            rewards.append(torch.mean(reward.detach()).item())\n",
        "            losses.append(torch.mean(actor_loss.detach()).item())\n",
        "\n",
        "            if (batch_idx + 1) % 100 == 0:\n",
        "                end = time.time()\n",
        "                times.append(end - start)\n",
        "                start = end\n",
        "\n",
        "                mean_loss = np.mean(losses[-100:])\n",
        "                mean_reward = np.mean(rewards[-100:])\n",
        "\n",
        "                print('  Batch %d/%d, reward: %2.3f, loss: %2.4f, took: %2.4fs' %\n",
        "                      (batch_idx, len(train_loader), mean_reward, mean_loss,\n",
        "                       times[-1]))\n",
        "                writer.add_scalar('Training loss',mean_loss,batch_idx+1)\n",
        "                writer.add_scalar('Training reward',mean_reward,batch_idx+1)\n",
        "                \n",
        "\n",
        "        mean_loss = np.mean(losses)\n",
        "        mean_reward = np.mean(rewards)\n",
        "        # mean_times=np.mean(times)\n",
        "   \n",
        "        writer.close()\n",
        "\n",
        "        # Save the weights\n",
        "        epoch_dir = os.path.join(checkpoint_dir, '%s' % epoch)\n",
        "        if not os.path.exists(epoch_dir):\n",
        "            os.makedirs(epoch_dir)\n",
        "\n",
        "        save_path = os.path.join(epoch_dir, 'actor.pt')\n",
        "        torch.save(actor.state_dict(), save_path)\n",
        "\n",
        "        save_path = os.path.join(epoch_dir, 'critic.pt')\n",
        "        torch.save(critic.state_dict(), save_path)\n",
        "\n",
        "        # Save rendering of validation set tours\n",
        "        valid_dir = os.path.join(save_dir, '%s' % epoch)\n",
        "\n",
        "        mean_valid = validate(valid_loader, actor, reward_fn, render_fn,\n",
        "                              valid_dir, num_plot=5)\n",
        "        \n",
        "\n",
        "        # Save best model parameters\n",
        "        if mean_valid < best_reward:\n",
        "\n",
        "            best_reward = mean_valid\n",
        "\n",
        "            save_path = os.path.join(save_dir, 'actor.pt')\n",
        "            torch.save(actor.state_dict(), save_path)\n",
        "\n",
        "            save_path = os.path.join(save_dir, 'critic.pt')\n",
        "            torch.save(critic.state_dict(), save_path)\n",
        "\n",
        "        print('Mean epoch loss/reward/valid: %2.4f, %2.4f, %2.4f, took: %2.4fs '\n",
        "              %\\\n",
        "              (mean_loss, mean_reward, mean_valid, time.time() - epoch_start))\n",
        "        writer.add_scalar('Training loss',mean_loss,epoch)\n",
        "        writer.add_scalar('Trainining reward',mean_reward,epoch)\n",
        "        # writer.add_scalar('test validation',mean_valid,epoch)\n",
        "        \n"
      ]
    },
    {
      "cell_type": "markdown",
      "metadata": {
        "id": "Box2dz64Kbk3"
      },
      "source": [
        "### Paramaters"
      ]
    },
    {
      "cell_type": "code",
      "execution_count": 30,
      "metadata": {
        "id": "tIrp9u68Kbk4"
      },
      "outputs": [
        {
          "name": "stdout",
          "output_type": "stream",
          "text": [
            "prp\\100\\00_45_29.243346\\\n"
          ]
        }
      ],
      "source": [
        "from torch.utils.tensorboard import SummaryWriter\n",
        "writer=SummaryWriter('runs/Training_25N_256_128_0.001_2_1_0.001_10000_200E')\n",
        "\n",
        "if __name__ == '__main__':\n",
        "\n",
        "    parser = argparse.ArgumentParser(description='Combinatorial Optimization')\n",
        "    parser.add_argument('--seed', default=12345, type=int)\n",
        "    parser.add_argument('--checkpoint', default=None)\n",
        "    parser.add_argument('--test', action='store_true', default=False)\n",
        "    parser.add_argument('--task', default='prp')\n",
        "    parser.add_argument('--nodes', dest='num_nodes', default=100, type=int)\n",
        "    parser.add_argument('--actor_lr', default=1e-3, type=float)\n",
        "    parser.add_argument('--critic_lr', default=1e-3, type=float)\n",
        "    parser.add_argument('--max_grad_norm', default=2., type=float)\n",
        "    parser.add_argument('--batch_size', default=256, type=int)\n",
        "    parser.add_argument('--hidden', dest='hidden_size', default=128, type=int)\n",
        "    parser.add_argument('--dropout', default=0.1, type=float)\n",
        "    parser.add_argument('--layers', dest='num_layers', default=1, type=int)\n",
        "    parser.add_argument('--train-size',default=1000, type=int)\n",
        "    parser.add_argument('--valid-size', default=100, type=int)\n",
        "    parser.add_argument('--ip', default=1)\n",
        "    parser.add_argument('--stdin', default=1)\n",
        "    parser.add_argument('--control', default=1)\n",
        "    parser.add_argument('--Session.signature_scheme', default=1)\n",
        "    parser.add_argument('--Session.key', default=1)\n",
        "    parser.add_argument('--shell', default=1)\n",
        "    parser.add_argument('--transport', default=1)\n",
        "    parser.add_argument('--iopub', default=1)\n",
        "    parser.add_argument('--f', default=1)\n",
        "    parser.add_argument('--hb', default=1)\n",
        "    parser.add_argument('-f')\n",
        "\n",
        "    args = parser.parse_args()\n",
        "\n",
        "    #print('NOTE: SETTTING CHECKPOINT: ')\n",
        "    args.checkpoint = os.path.join('prp', '100', '00_45_29.243346' + os.path.sep)\n",
        "    print(args.checkpoint)\n"
      ]
    },
    {
      "cell_type": "markdown",
      "metadata": {
        "id": "p4GXy8XCKbk4"
      },
      "source": [
        "## Model "
      ]
    },
    {
      "cell_type": "markdown",
      "metadata": {
        "id": "LJKoJmRoKbk4"
      },
      "source": [
        "### Trainning"
      ]
    },
    {
      "cell_type": "code",
      "execution_count": 25,
      "metadata": {
        "id": "UrKoyZgjKbk4"
      },
      "outputs": [],
      "source": [
        "# Determines the maximum amount of load for a vehicle based on num nodes\n",
        "\n",
        "LOAD_DICT = {25: 700, 50:700, 100: 7000, 200: 700}\n",
        "MAX_DEMAND = 50\n",
        "STATIC_SIZE = 2 # (x, y)\n",
        "DYNAMIC_SIZE = 2 # (load, demand)\n",
        "\n",
        "max_load = 700"
      ]
    },
    {
      "cell_type": "code",
      "execution_count": 26,
      "metadata": {
        "colab": {
          "base_uri": "https://localhost:8080/",
          "height": 1000
        },
        "id": "s2osYQdCKbk4",
        "outputId": "ba96eaee-19d3-4bde-8fad-8910fe02db8c"
      },
      "outputs": [],
      "source": [
        "train_data = VehicleRoutingDataset(num_instances,args.num_nodes,\n",
        "                                    max_load,\n",
        "                                    MAX_DEMAND,\n",
        "                                    args.seed)\n",
        "\n",
        "valid_data = VehicleRoutingDataset1(num_instances,\n",
        "                                    args.num_nodes,\n",
        "                                    max_load)\n",
        "\n",
        "\n",
        "actor = DRL4TSP(STATIC_SIZE,\n",
        "                DYNAMIC_SIZE,\n",
        "                args.hidden_size,\n",
        "                train_data.update_dynamic,\n",
        "                train_data.update_mask,\n",
        "                args.num_layers,\n",
        "                args.dropout).to(device)\n",
        "\n",
        "critic = StateCritic(STATIC_SIZE, DYNAMIC_SIZE, args.hidden_size).to(device)\n",
        "\n",
        "kwargs = vars(args)\n",
        "kwargs['train_data'] = train_data\n",
        "kwargs['valid_data'] = valid_data\n",
        "kwargs['reward_fn'] = reward\n",
        "kwargs['render_fn'] = render\n",
        "\n",
        "\n",
        "# train(actor, critic, **kwargs)\n"
      ]
    },
    {
      "cell_type": "markdown",
      "metadata": {
        "id": "qs_PsvGNKbk4"
      },
      "source": [
        "### Validation"
      ]
    },
    {
      "cell_type": "code",
      "execution_count": 31,
      "metadata": {},
      "outputs": [],
      "source": [
        "\n",
        "if args.checkpoint:\n",
        "    path = os.path.join(args.checkpoint, 'actor.pt')\n",
        "    actor.load_state_dict(torch.load(path, device))\n",
        "\n",
        "    path = os.path.join(args.checkpoint, 'critic.pt')\n",
        "    critic.load_state_dict(torch.load(path, device))"
      ]
    },
    {
      "cell_type": "code",
      "execution_count": 28,
      "metadata": {
        "id": "fcQOkVM0Kbk4",
        "outputId": "20272dea-f4d8-4c9c-e5e2-139c5b6cc4e4"
      },
      "outputs": [
        {
          "ename": "IndexError",
          "evalue": "index 1 is out of bounds for dimension 0 with size 1",
          "output_type": "error",
          "traceback": [
            "\u001b[1;31m---------------------------------------------------------------------------\u001b[0m",
            "\u001b[1;31mIndexError\u001b[0m                                Traceback (most recent call last)",
            "\u001b[1;32mc:\\Users\\carlo\\Desktop\\Maestria\\Thesis 1\\Code\\model2_2_Copy.ipynb Cell 40\u001b[0m in \u001b[0;36m<module>\u001b[1;34m\u001b[0m\n\u001b[0;32m      <a href='vscode-notebook-cell:/c%3A/Users/carlo/Desktop/Maestria/Thesis%201/Code/model2_2_Copy.ipynb#X54sZmlsZQ%3D%3D?line=6'>7</a>\u001b[0m test_dir \u001b[39m=\u001b[39m \u001b[39m'\u001b[39m\u001b[39mtest\u001b[39m\u001b[39m'\u001b[39m\n\u001b[0;32m      <a href='vscode-notebook-cell:/c%3A/Users/carlo/Desktop/Maestria/Thesis%201/Code/model2_2_Copy.ipynb#X54sZmlsZQ%3D%3D?line=7'>8</a>\u001b[0m test_loader \u001b[39m=\u001b[39m DataLoader(test_data, args\u001b[39m.\u001b[39mbatch_size, \u001b[39mFalse\u001b[39;00m, num_workers\u001b[39m=\u001b[39m\u001b[39m0\u001b[39m)\n\u001b[1;32m----> <a href='vscode-notebook-cell:/c%3A/Users/carlo/Desktop/Maestria/Thesis%201/Code/model2_2_Copy.ipynb#X54sZmlsZQ%3D%3D?line=8'>9</a>\u001b[0m out \u001b[39m=\u001b[39m validate(test_loader, actor, reward, render, test_dir, num_plot\u001b[39m=\u001b[39;49m\u001b[39m1\u001b[39;49m)\n\u001b[0;32m     <a href='vscode-notebook-cell:/c%3A/Users/carlo/Desktop/Maestria/Thesis%201/Code/model2_2_Copy.ipynb#X54sZmlsZQ%3D%3D?line=10'>11</a>\u001b[0m \u001b[39mprint\u001b[39m(\u001b[39m'\u001b[39m\u001b[39mAverage Carbon Emissions (kg) test/dataset: \u001b[39m\u001b[39m'\u001b[39m,out)\n",
            "\u001b[1;32mc:\\Users\\carlo\\Desktop\\Maestria\\Thesis 1\\Code\\model2_2_Copy.ipynb Cell 40\u001b[0m in \u001b[0;36mvalidate\u001b[1;34m(data_loader, actor, reward_fn, render_fn, save_dir, num_plot)\u001b[0m\n\u001b[0;32m      <a href='vscode-notebook-cell:/c%3A/Users/carlo/Desktop/Maestria/Thesis%201/Code/model2_2_Copy.ipynb#X54sZmlsZQ%3D%3D?line=7'>8</a>\u001b[0m     os\u001b[39m.\u001b[39mmakedirs(save_dir)\n\u001b[0;32m     <a href='vscode-notebook-cell:/c%3A/Users/carlo/Desktop/Maestria/Thesis%201/Code/model2_2_Copy.ipynb#X54sZmlsZQ%3D%3D?line=9'>10</a>\u001b[0m rewards \u001b[39m=\u001b[39m []\n\u001b[1;32m---> <a href='vscode-notebook-cell:/c%3A/Users/carlo/Desktop/Maestria/Thesis%201/Code/model2_2_Copy.ipynb#X54sZmlsZQ%3D%3D?line=10'>11</a>\u001b[0m \u001b[39mfor\u001b[39;00m batch_idx, batch \u001b[39min\u001b[39;00m \u001b[39menumerate\u001b[39m(data_loader):\n\u001b[0;32m     <a href='vscode-notebook-cell:/c%3A/Users/carlo/Desktop/Maestria/Thesis%201/Code/model2_2_Copy.ipynb#X54sZmlsZQ%3D%3D?line=12'>13</a>\u001b[0m     static, dynamic, x0 \u001b[39m=\u001b[39m batch\n\u001b[0;32m     <a href='vscode-notebook-cell:/c%3A/Users/carlo/Desktop/Maestria/Thesis%201/Code/model2_2_Copy.ipynb#X54sZmlsZQ%3D%3D?line=14'>15</a>\u001b[0m     static \u001b[39m=\u001b[39m static\u001b[39m.\u001b[39mto(device)\n",
            "File \u001b[1;32mc:\\Users\\carlo\\AppData\\Local\\Programs\\Python\\Python39\\lib\\site-packages\\torch\\utils\\data\\dataloader.py:628\u001b[0m, in \u001b[0;36m_BaseDataLoaderIter.__next__\u001b[1;34m(self)\u001b[0m\n\u001b[0;32m    625\u001b[0m \u001b[39mif\u001b[39;00m \u001b[39mself\u001b[39m\u001b[39m.\u001b[39m_sampler_iter \u001b[39mis\u001b[39;00m \u001b[39mNone\u001b[39;00m:\n\u001b[0;32m    626\u001b[0m     \u001b[39m# TODO(https://github.com/pytorch/pytorch/issues/76750)\u001b[39;00m\n\u001b[0;32m    627\u001b[0m     \u001b[39mself\u001b[39m\u001b[39m.\u001b[39m_reset()  \u001b[39m# type: ignore[call-arg]\u001b[39;00m\n\u001b[1;32m--> 628\u001b[0m data \u001b[39m=\u001b[39m \u001b[39mself\u001b[39;49m\u001b[39m.\u001b[39;49m_next_data()\n\u001b[0;32m    629\u001b[0m \u001b[39mself\u001b[39m\u001b[39m.\u001b[39m_num_yielded \u001b[39m+\u001b[39m\u001b[39m=\u001b[39m \u001b[39m1\u001b[39m\n\u001b[0;32m    630\u001b[0m \u001b[39mif\u001b[39;00m \u001b[39mself\u001b[39m\u001b[39m.\u001b[39m_dataset_kind \u001b[39m==\u001b[39m _DatasetKind\u001b[39m.\u001b[39mIterable \u001b[39mand\u001b[39;00m \\\n\u001b[0;32m    631\u001b[0m         \u001b[39mself\u001b[39m\u001b[39m.\u001b[39m_IterableDataset_len_called \u001b[39mis\u001b[39;00m \u001b[39mnot\u001b[39;00m \u001b[39mNone\u001b[39;00m \u001b[39mand\u001b[39;00m \\\n\u001b[0;32m    632\u001b[0m         \u001b[39mself\u001b[39m\u001b[39m.\u001b[39m_num_yielded \u001b[39m>\u001b[39m \u001b[39mself\u001b[39m\u001b[39m.\u001b[39m_IterableDataset_len_called:\n",
            "File \u001b[1;32mc:\\Users\\carlo\\AppData\\Local\\Programs\\Python\\Python39\\lib\\site-packages\\torch\\utils\\data\\dataloader.py:671\u001b[0m, in \u001b[0;36m_SingleProcessDataLoaderIter._next_data\u001b[1;34m(self)\u001b[0m\n\u001b[0;32m    669\u001b[0m \u001b[39mdef\u001b[39;00m \u001b[39m_next_data\u001b[39m(\u001b[39mself\u001b[39m):\n\u001b[0;32m    670\u001b[0m     index \u001b[39m=\u001b[39m \u001b[39mself\u001b[39m\u001b[39m.\u001b[39m_next_index()  \u001b[39m# may raise StopIteration\u001b[39;00m\n\u001b[1;32m--> 671\u001b[0m     data \u001b[39m=\u001b[39m \u001b[39mself\u001b[39;49m\u001b[39m.\u001b[39;49m_dataset_fetcher\u001b[39m.\u001b[39;49mfetch(index)  \u001b[39m# may raise StopIteration\u001b[39;00m\n\u001b[0;32m    672\u001b[0m     \u001b[39mif\u001b[39;00m \u001b[39mself\u001b[39m\u001b[39m.\u001b[39m_pin_memory:\n\u001b[0;32m    673\u001b[0m         data \u001b[39m=\u001b[39m _utils\u001b[39m.\u001b[39mpin_memory\u001b[39m.\u001b[39mpin_memory(data, \u001b[39mself\u001b[39m\u001b[39m.\u001b[39m_pin_memory_device)\n",
            "File \u001b[1;32mc:\\Users\\carlo\\AppData\\Local\\Programs\\Python\\Python39\\lib\\site-packages\\torch\\utils\\data\\_utils\\fetch.py:58\u001b[0m, in \u001b[0;36m_MapDatasetFetcher.fetch\u001b[1;34m(self, possibly_batched_index)\u001b[0m\n\u001b[0;32m     56\u001b[0m         data \u001b[39m=\u001b[39m \u001b[39mself\u001b[39m\u001b[39m.\u001b[39mdataset\u001b[39m.\u001b[39m__getitems__(possibly_batched_index)\n\u001b[0;32m     57\u001b[0m     \u001b[39melse\u001b[39;00m:\n\u001b[1;32m---> 58\u001b[0m         data \u001b[39m=\u001b[39m [\u001b[39mself\u001b[39m\u001b[39m.\u001b[39mdataset[idx] \u001b[39mfor\u001b[39;00m idx \u001b[39min\u001b[39;00m possibly_batched_index]\n\u001b[0;32m     59\u001b[0m \u001b[39melse\u001b[39;00m:\n\u001b[0;32m     60\u001b[0m     data \u001b[39m=\u001b[39m \u001b[39mself\u001b[39m\u001b[39m.\u001b[39mdataset[possibly_batched_index]\n",
            "File \u001b[1;32mc:\\Users\\carlo\\AppData\\Local\\Programs\\Python\\Python39\\lib\\site-packages\\torch\\utils\\data\\_utils\\fetch.py:58\u001b[0m, in \u001b[0;36m<listcomp>\u001b[1;34m(.0)\u001b[0m\n\u001b[0;32m     56\u001b[0m         data \u001b[39m=\u001b[39m \u001b[39mself\u001b[39m\u001b[39m.\u001b[39mdataset\u001b[39m.\u001b[39m__getitems__(possibly_batched_index)\n\u001b[0;32m     57\u001b[0m     \u001b[39melse\u001b[39;00m:\n\u001b[1;32m---> 58\u001b[0m         data \u001b[39m=\u001b[39m [\u001b[39mself\u001b[39;49m\u001b[39m.\u001b[39;49mdataset[idx] \u001b[39mfor\u001b[39;00m idx \u001b[39min\u001b[39;00m possibly_batched_index]\n\u001b[0;32m     59\u001b[0m \u001b[39melse\u001b[39;00m:\n\u001b[0;32m     60\u001b[0m     data \u001b[39m=\u001b[39m \u001b[39mself\u001b[39m\u001b[39m.\u001b[39mdataset[possibly_batched_index]\n",
            "\u001b[1;32mc:\\Users\\carlo\\Desktop\\Maestria\\Thesis 1\\Code\\model2_2_Copy.ipynb Cell 40\u001b[0m in \u001b[0;36mVehicleRoutingDataset.__getitem__\u001b[1;34m(self, idx)\u001b[0m\n\u001b[0;32m     <a href='vscode-notebook-cell:/c%3A/Users/carlo/Desktop/Maestria/Thesis%201/Code/model2_2_Copy.ipynb#X54sZmlsZQ%3D%3D?line=59'>60</a>\u001b[0m \u001b[39mdef\u001b[39;00m \u001b[39m__getitem__\u001b[39m(\u001b[39mself\u001b[39m, idx):\n\u001b[0;32m     <a href='vscode-notebook-cell:/c%3A/Users/carlo/Desktop/Maestria/Thesis%201/Code/model2_2_Copy.ipynb#X54sZmlsZQ%3D%3D?line=60'>61</a>\u001b[0m     \u001b[39m# (static, dynamic, start_loc)\u001b[39;00m\n\u001b[1;32m---> <a href='vscode-notebook-cell:/c%3A/Users/carlo/Desktop/Maestria/Thesis%201/Code/model2_2_Copy.ipynb#X54sZmlsZQ%3D%3D?line=61'>62</a>\u001b[0m     \u001b[39mreturn\u001b[39;00m (\u001b[39mself\u001b[39m\u001b[39m.\u001b[39mstatic[idx], \u001b[39mself\u001b[39;49m\u001b[39m.\u001b[39;49mdynamic[idx], \u001b[39mself\u001b[39m\u001b[39m.\u001b[39mstatic[idx, :, \u001b[39m0\u001b[39m:\u001b[39m1\u001b[39m])\n",
            "\u001b[1;31mIndexError\u001b[0m: index 1 is out of bounds for dimension 0 with size 1"
          ]
        }
      ],
      "source": [
        "\n",
        "\n",
        "\n",
        "test_data = VehicleRoutingDataset(args.valid_size,\n",
        "                                    args.num_nodes,\n",
        "                                    max_load,\n",
        "                                    MAX_DEMAND,\n",
        "                                    args.seed + 2)\n",
        "\n",
        "test_dir = 'test'\n",
        "test_loader = DataLoader(test_data, args.batch_size, False, num_workers=0)\n",
        "out = validate(test_loader, actor, reward, render, test_dir, num_plot=1)\n",
        "\n",
        "print('Average Carbon Emissions (kg) test/dataset: ',out)\n"
      ]
    },
    {
      "cell_type": "code",
      "execution_count": 32,
      "metadata": {
        "colab": {
          "base_uri": "https://localhost:8080/",
          "height": 314
        },
        "id": "Lkyzt3InKbk5",
        "outputId": "5947cfe0-82b6-4f52-a51d-8a9f91664a51"
      },
      "outputs": [
        {
          "name": "stdout",
          "output_type": "stream",
          "text": [
            "Average Carbon Emissions (kg) dataset:  321.934814453125\n"
          ]
        },
        {
          "data": {
            "image/png": "[encoded data removed]",
            "text/plain": [
              "<Figure size 432x288 with 1 Axes>"
            ]
          },
          "metadata": {
            "needs_background": "light"
          },
          "output_type": "display_data"
        }
      ],
      "source": [
        "test_dataset = VehicleRoutingDataset1(num_instances,\n",
        "                                    args.num_nodes,\n",
        "                                    max_load)\n",
        "                                    \n",
        "                                    \n",
        "test_dir1 = 'test1'\n",
        "test_loader1 = DataLoader(test_dataset, 1, False, num_workers=0)\n",
        "out1 = validate(test_loader1, actor, reward, render, test_dir1, num_plot=1\n",
        ")\n",
        "\n",
        "\n",
        "\n",
        "print('Average Carbon Emissions (kg) dataset: ',out1)"
      ]
    },
    {
      "cell_type": "code",
      "execution_count": null,
      "metadata": {
        "id": "iohDcdKeUUkS"
      },
      "outputs": [],
      "source": []
    }
  ],
  "metadata": {
    "colab": {
      "provenance": []
    },
    "kernelspec": {
      "display_name": "Python 3 (ipykernel)",
      "language": "python",
      "name": "python3"
    },
    "language_info": {
      "codemirror_mode": {
        "name": "ipython",
        "version": 3
      },
      "file_extension": ".py",
      "mimetype": "text/x-python",
      "name": "python",
      "nbconvert_exporter": "python",
      "pygments_lexer": "ipython3",
      "version": "3.9.2"
    },
    "orig_nbformat": 4,
    "vscode": {
      "interpreter": {
        "hash": "55923a6ed19f62c923f4f9446379b87364bb44c28ea18797870eef05a25fc661"
      }
    }
  },
  "nbformat": 4,
  "nbformat_minor": 0
}
